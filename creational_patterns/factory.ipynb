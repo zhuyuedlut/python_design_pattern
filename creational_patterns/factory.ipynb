{
 "cells": [
  {
   "cell_type": "code",
   "execution_count": 1,
   "metadata": {
    "collapsed": true
   },
   "outputs": [],
   "source": [
    "class GreekLocalizer:\n",
    "    \"\"\"A simple localizer a la gettext\"\"\"\n",
    "\n",
    "    def __init__(self) -> None:\n",
    "        self.translations = {\"dog\": \"σκύλος\", \"cat\": \"γάτα\"}\n",
    "\n",
    "    def localize(self, msg: str) -> str:\n",
    "        \"\"\"We'll punt if we don't have a translation\"\"\"\n",
    "        return self.translations.get(msg, msg)"
   ]
  },
  {
   "cell_type": "code",
   "execution_count": 2,
   "outputs": [],
   "source": [
    "class EnglishLocalizer:\n",
    "    \"\"\"Simply echoes the message\"\"\"\n",
    "\n",
    "    def localize(self, msg: str) -> str:\n",
    "        return msg"
   ],
   "metadata": {
    "collapsed": false
   }
  },
  {
   "cell_type": "code",
   "execution_count": 3,
   "outputs": [],
   "source": [
    "def get_localizer(language: str = \"English\") -> object:\n",
    "\n",
    "    \"\"\"Factory\"\"\"\n",
    "    localizers = {\n",
    "        \"English\": EnglishLocalizer,\n",
    "        \"Greek\": GreekLocalizer,\n",
    "    }\n",
    "\n",
    "    return localizers[language]()"
   ],
   "metadata": {
    "collapsed": false
   }
  },
  {
   "cell_type": "code",
   "execution_count": null,
   "outputs": [],
   "source": [],
   "metadata": {
    "collapsed": false
   }
  }
 ],
 "metadata": {
  "kernelspec": {
   "display_name": "Python 3",
   "language": "python",
   "name": "python3"
  },
  "language_info": {
   "codemirror_mode": {
    "name": "ipython",
    "version": 2
   },
   "file_extension": ".py",
   "mimetype": "text/x-python",
   "name": "python",
   "nbconvert_exporter": "python",
   "pygments_lexer": "ipython2",
   "version": "2.7.6"
  }
 },
 "nbformat": 4,
 "nbformat_minor": 0
}
