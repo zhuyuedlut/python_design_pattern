{
 "cells": [
  {
   "cell_type": "markdown",
   "source": [
    "The Borg pattern (also known as the Monostate pattern) is a way to implement singleton behavior, but instead of having only one instance\n",
    "of a class, there are multiple instances that share the same state. In other words, the focus is on sharing state instead of sharing instance identity.\n",
    "\n",
    "To understand the implementation of this pattern in Python, it is important to know that, in Python, instance attributes are stored in a attribute dictionary called __dict__. Usually, each instance will have its own dictionary, but the Borg pattern modifies this so that all instances have the same dictionary.\n",
    "\n",
    "就是通过修改__dict__来改变class存储key value方式"
   ],
   "metadata": {
    "collapsed": false
   }
  },
  {
   "cell_type": "code",
   "execution_count": 1,
   "metadata": {
    "collapsed": true
   },
   "outputs": [],
   "source": [
    "from typing import Dict"
   ]
  },
  {
   "cell_type": "code",
   "execution_count": 4,
   "outputs": [],
   "source": [
    "class Borg:\n",
    "    _shared_state: Dict[str, str] = {}\n",
    "\n",
    "    def __init__(self):\n",
    "        self.__dict__ = self._shared_state"
   ],
   "metadata": {
    "collapsed": false
   }
  },
  {
   "cell_type": "code",
   "execution_count": 6,
   "outputs": [],
   "source": [
    "class YourBorg(Borg):\n",
    "    def __init__(self, state: str = None) -> None:\n",
    "        super().__init__()\n",
    "        if state:\n",
    "            self.state = state\n",
    "        else:\n",
    "            if not hasattr(self, \"state\"):\n",
    "                self.state = \"Init\"\n",
    "\n",
    "    def __str__(self) -> str:\n",
    "        return self.state"
   ],
   "metadata": {
    "collapsed": false
   }
  },
  {
   "cell_type": "code",
   "execution_count": null,
   "outputs": [],
   "source": [],
   "metadata": {
    "collapsed": false
   }
  }
 ],
 "metadata": {
  "kernelspec": {
   "display_name": "Python 3",
   "language": "python",
   "name": "python3"
  },
  "language_info": {
   "codemirror_mode": {
    "name": "ipython",
    "version": 2
   },
   "file_extension": ".py",
   "mimetype": "text/x-python",
   "name": "python",
   "nbconvert_exporter": "python",
   "pygments_lexer": "ipython2",
   "version": "2.7.6"
  }
 },
 "nbformat": 4,
 "nbformat_minor": 0
}
