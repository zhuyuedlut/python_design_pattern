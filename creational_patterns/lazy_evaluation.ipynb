{
 "cells": [
  {
   "cell_type": "markdown",
   "source": [
    "lazily-evaluated property pattern in python\n",
    "\n",
    "functools.update_wrapper(wrapper, wrapped) 相当于把wrapped的属性都付给wrapper"
   ],
   "metadata": {
    "collapsed": false
   }
  },
  {
   "cell_type": "code",
   "execution_count": 1,
   "metadata": {
    "collapsed": true
   },
   "outputs": [],
   "source": [
    "import functools\n",
    "\n",
    "class lazy_property:\n",
    "    def __init__(self, function):\n",
    "        self.function = function\n",
    "        functools.update_wrapper(self, function)\n",
    "\n",
    "    def __get__(self, obj, owner):\n",
    "        if obj is None:\n",
    "            return self\n",
    "        val = self.function(obj)\n",
    "        obj.__dict__[self.function.__name__] = val\n",
    "        return val"
   ]
  },
  {
   "cell_type": "code",
   "execution_count": 2,
   "outputs": [],
   "source": [
    "def lazy_property2(fn):\n",
    "    \"\"\"\n",
    "    A lazy property decorator.\n",
    "\n",
    "    The function decorated is called the first time to retrieve the result and\n",
    "    then that calculated result is used the next time you access the value.\n",
    "    \"\"\"\n",
    "    attr = \"_lazy__\" + fn.__name__\n",
    "\n",
    "    @property\n",
    "    def _lazy_property(self):\n",
    "        if not hasattr(self, attr):\n",
    "            setattr(self, attr, fn(self))\n",
    "        return getattr(self, attr)\n",
    "\n",
    "    return _lazy_property"
   ],
   "metadata": {
    "collapsed": false
   }
  },
  {
   "cell_type": "code",
   "execution_count": 4,
   "outputs": [],
   "source": [
    "class Person:\n",
    "    def __init__(self, name, occupation):\n",
    "        self.name = name\n",
    "        self.occupation = occupation\n",
    "        self.call_count2 = 0\n",
    "\n",
    "    @lazy_property\n",
    "    def relatives(self):\n",
    "        # Get all relatives, let's assume that it costs much time.\n",
    "        relatives = \"Many relatives.\"\n",
    "        return relatives\n",
    "\n",
    "    @lazy_property2\n",
    "    def parents(self):\n",
    "        self.call_count2 += 1\n",
    "        return \"Father and mother\""
   ],
   "metadata": {
    "collapsed": false
   }
  },
  {
   "cell_type": "code",
   "execution_count": 5,
   "outputs": [],
   "source": [
    "Jhon = Person('Jhon', 'Coder')"
   ],
   "metadata": {
    "collapsed": false
   }
  },
  {
   "cell_type": "code",
   "execution_count": 6,
   "outputs": [
    {
     "data": {
      "text/plain": "'Jhon'"
     },
     "execution_count": 6,
     "metadata": {},
     "output_type": "execute_result"
    }
   ],
   "source": [
    "Jhon.name"
   ],
   "metadata": {
    "collapsed": false
   }
  },
  {
   "cell_type": "code",
   "execution_count": 8,
   "outputs": [
    {
     "data": {
      "text/plain": "'Coder'"
     },
     "execution_count": 8,
     "metadata": {},
     "output_type": "execute_result"
    }
   ],
   "source": [
    "Jhon.occupation"
   ],
   "metadata": {
    "collapsed": false
   }
  },
  {
   "cell_type": "code",
   "execution_count": 9,
   "outputs": [
    {
     "data": {
      "text/plain": "[('call_count2', 0), ('name', 'Jhon'), ('occupation', 'Coder')]"
     },
     "execution_count": 9,
     "metadata": {},
     "output_type": "execute_result"
    }
   ],
   "source": [
    "sorted(Jhon.__dict__.items())"
   ],
   "metadata": {
    "collapsed": false
   }
  },
  {
   "cell_type": "code",
   "execution_count": 10,
   "outputs": [
    {
     "data": {
      "text/plain": "'Many relatives.'"
     },
     "execution_count": 10,
     "metadata": {},
     "output_type": "execute_result"
    }
   ],
   "source": [
    "Jhon.relatives"
   ],
   "metadata": {
    "collapsed": false
   }
  },
  {
   "cell_type": "code",
   "execution_count": 11,
   "outputs": [
    {
     "data": {
      "text/plain": "[('call_count2', 0),\n ('name', 'Jhon'),\n ('occupation', 'Coder'),\n ('relatives', 'Many relatives.')]"
     },
     "execution_count": 11,
     "metadata": {},
     "output_type": "execute_result"
    }
   ],
   "source": [
    "sorted(Jhon.__dict__.items())"
   ],
   "metadata": {
    "collapsed": false
   }
  },
  {
   "cell_type": "code",
   "execution_count": 12,
   "outputs": [
    {
     "data": {
      "text/plain": "'Father and mother'"
     },
     "execution_count": 12,
     "metadata": {},
     "output_type": "execute_result"
    }
   ],
   "source": [
    "Jhon.parents"
   ],
   "metadata": {
    "collapsed": false
   }
  },
  {
   "cell_type": "code",
   "execution_count": 13,
   "outputs": [
    {
     "data": {
      "text/plain": "[('_lazy__parents', 'Father and mother'),\n ('call_count2', 1),\n ('name', 'Jhon'),\n ('occupation', 'Coder'),\n ('relatives', 'Many relatives.')]"
     },
     "execution_count": 13,
     "metadata": {},
     "output_type": "execute_result"
    }
   ],
   "source": [
    "sorted(Jhon.__dict__.items())"
   ],
   "metadata": {
    "collapsed": false
   }
  },
  {
   "cell_type": "code",
   "execution_count": 14,
   "outputs": [
    {
     "data": {
      "text/plain": "'Father and mother'"
     },
     "execution_count": 14,
     "metadata": {},
     "output_type": "execute_result"
    }
   ],
   "source": [
    "Jhon.parents"
   ],
   "metadata": {
    "collapsed": false
   }
  },
  {
   "cell_type": "code",
   "execution_count": 15,
   "outputs": [
    {
     "data": {
      "text/plain": "1"
     },
     "execution_count": 15,
     "metadata": {},
     "output_type": "execute_result"
    }
   ],
   "source": [
    "Jhon.call_count2"
   ],
   "metadata": {
    "collapsed": false
   }
  },
  {
   "cell_type": "code",
   "execution_count": null,
   "outputs": [],
   "source": [],
   "metadata": {
    "collapsed": false
   }
  }
 ],
 "metadata": {
  "kernelspec": {
   "display_name": "Python 3",
   "language": "python",
   "name": "python3"
  },
  "language_info": {
   "codemirror_mode": {
    "name": "ipython",
    "version": 2
   },
   "file_extension": ".py",
   "mimetype": "text/x-python",
   "name": "python",
   "nbconvert_exporter": "python",
   "pygments_lexer": "ipython2",
   "version": "2.7.6"
  }
 },
 "nbformat": 4,
 "nbformat_minor": 0
}
