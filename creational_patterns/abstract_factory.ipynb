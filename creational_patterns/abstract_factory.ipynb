{
 "cells": [
  {
   "cell_type": "markdown",
   "source": [
    "use a generic function with specific factories\n",
    "\n",
    "Provides a way to encapsulate a group of individual factories.\n",
    "\n",
    "基本的思想就是：实现一个base class，然后继承自这个base class，然后用base class去接受不同的class"
   ],
   "metadata": {
    "collapsed": false
   }
  },
  {
   "cell_type": "code",
   "execution_count": 1,
   "metadata": {
    "collapsed": true
   },
   "outputs": [],
   "source": [
    "import random\n",
    "from typing import Type"
   ]
  },
  {
   "cell_type": "code",
   "execution_count": 2,
   "outputs": [],
   "source": [
    "class Pet:\n",
    "    def __init__(self, name: str) -> None:\n",
    "        self.name = name\n",
    "\n",
    "    def speak(self) -> None:\n",
    "        raise NotImplemented\n",
    "\n",
    "    def __str__(self) -> str:\n",
    "        raise NotImplemented"
   ],
   "metadata": {
    "collapsed": false
   }
  },
  {
   "cell_type": "code",
   "execution_count": 3,
   "outputs": [],
   "source": [
    "class Dog(Pet):\n",
    "    def speak(self) -> None:\n",
    "        print(\"woof\")\n",
    "\n",
    "    def __str__(self) -> str:\n",
    "        return f\"Dog<{self.name}>\"\n",
    "\n",
    "class Cat(Pet):\n",
    "    def speak(self) -> None:\n",
    "        print(\"meow\")\n",
    "\n",
    "    def __str__(self) -> str:\n",
    "        return f\"Cat<{self.name}>\""
   ],
   "metadata": {
    "collapsed": false
   }
  },
  {
   "cell_type": "code",
   "execution_count": 4,
   "outputs": [],
   "source": [
    "class PetShop:\n",
    "\n",
    "    \"\"\"A pet shop\"\"\"\n",
    "\n",
    "    def __init__(self, animal_factory: Type[Pet]) -> None:\n",
    "        \"\"\"pet_factory is our abstract factory.  We can set it at will.\"\"\"\n",
    "\n",
    "        self.pet_factory = animal_factory\n",
    "\n",
    "    def buy_pet(self, name: str) -> Pet:\n",
    "        \"\"\"Creates and shows a pet using the abstract factory\"\"\"\n",
    "\n",
    "        pet = self.pet_factory(name)\n",
    "        print(f\"Here is your lovely {pet}\")\n",
    "        return pet"
   ],
   "metadata": {
    "collapsed": false
   }
  },
  {
   "cell_type": "code",
   "execution_count": 5,
   "outputs": [],
   "source": [
    "def random_animal(name: str) -> Pet:\n",
    "    \"\"\"Let's be dynamic!\"\"\"\n",
    "    return random.choice([Dog, Cat])(name)"
   ],
   "metadata": {
    "collapsed": false
   }
  },
  {
   "cell_type": "code",
   "execution_count": null,
   "outputs": [],
   "source": [],
   "metadata": {
    "collapsed": false
   }
  }
 ],
 "metadata": {
  "kernelspec": {
   "display_name": "Python 3",
   "language": "python",
   "name": "python3"
  },
  "language_info": {
   "codemirror_mode": {
    "name": "ipython",
    "version": 2
   },
   "file_extension": ".py",
   "mimetype": "text/x-python",
   "name": "python",
   "nbconvert_exporter": "python",
   "pygments_lexer": "ipython2",
   "version": "2.7.6"
  }
 },
 "nbformat": 4,
 "nbformat_minor": 0
}
